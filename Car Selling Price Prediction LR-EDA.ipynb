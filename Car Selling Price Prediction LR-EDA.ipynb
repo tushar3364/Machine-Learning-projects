{
 "cells": [
  {
   "cell_type": "markdown",
   "id": "cd5cc7fc",
   "metadata": {},
   "source": [
    "# Car Selling Price Prediction"
   ]
  },
  {
   "cell_type": "markdown",
   "id": "ccab46c2",
   "metadata": {},
   "source": [
    "### Purpose\n"
   ]
  },
  {
   "cell_type": "markdown",
   "id": "117cb671",
   "metadata": {},
   "source": [
    "To vizualize the relationship between actual prices and predicted prices of cars to be sold and predict the factors on which the selling price of car depends upon.\n",
    "\n"
   ]
  },
  {
   "cell_type": "markdown",
   "id": "84f2837f",
   "metadata": {},
   "source": [
    "### Data"
   ]
  },
  {
   "cell_type": "markdown",
   "id": "4ad0d48e",
   "metadata": {},
   "source": [
    "Data is a list of cars and its effective columns in csv format imported from kaggle and the source is cardekho.com.  "
   ]
  },
  {
   "cell_type": "markdown",
   "id": "1a477873",
   "metadata": {},
   "source": [
    "### Libraries to be used"
   ]
  },
  {
   "cell_type": "markdown",
   "id": "0e0a8901",
   "metadata": {},
   "source": [
    "**1. NumPy**    \n",
    "**2. Pandas**   \n",
    "**3. Matplotlib**   \n",
    "**4. Seaborn**    \n",
    "**5. Sklearn**  "
   ]
  },
  {
   "cell_type": "markdown",
   "id": "90a4a898",
   "metadata": {},
   "source": [
    "## Importing Libraries"
   ]
  },
  {
   "cell_type": "code",
   "execution_count": 2,
   "id": "07db7678",
   "metadata": {},
   "outputs": [],
   "source": [
    "import numpy as np #linear algebra\n",
    "import pandas as pd #data processing, CSV I/O (pd.read_csv)\n",
    "\n",
    "#Data visualization\n",
    "\n",
    "import matplotlib.pyplot as plt\n",
    "%matplotlib inline\n",
    "import seaborn as sns\n",
    "\n",
    "#surpress warnings\n",
    "\n",
    "import warnings \n",
    "warnings.filterwarnings('ignore')"
   ]
  },
  {
   "cell_type": "code",
   "execution_count": 3,
   "id": "0c29c548",
   "metadata": {},
   "outputs": [
    {
     "data": {
      "text/html": [
       "<div>\n",
       "<style scoped>\n",
       "    .dataframe tbody tr th:only-of-type {\n",
       "        vertical-align: middle;\n",
       "    }\n",
       "\n",
       "    .dataframe tbody tr th {\n",
       "        vertical-align: top;\n",
       "    }\n",
       "\n",
       "    .dataframe thead th {\n",
       "        text-align: right;\n",
       "    }\n",
       "</style>\n",
       "<table border=\"1\" class=\"dataframe\">\n",
       "  <thead>\n",
       "    <tr style=\"text-align: right;\">\n",
       "      <th></th>\n",
       "      <th>Car_Name</th>\n",
       "      <th>Year</th>\n",
       "      <th>Selling_Price</th>\n",
       "      <th>Present_Price</th>\n",
       "      <th>Kms_Driven</th>\n",
       "      <th>Fuel_Type</th>\n",
       "      <th>Seller_Type</th>\n",
       "      <th>Transmission</th>\n",
       "      <th>Owner</th>\n",
       "    </tr>\n",
       "  </thead>\n",
       "  <tbody>\n",
       "    <tr>\n",
       "      <th>0</th>\n",
       "      <td>ritz</td>\n",
       "      <td>2014</td>\n",
       "      <td>3.35</td>\n",
       "      <td>5.59</td>\n",
       "      <td>27000</td>\n",
       "      <td>Petrol</td>\n",
       "      <td>Dealer</td>\n",
       "      <td>Manual</td>\n",
       "      <td>0</td>\n",
       "    </tr>\n",
       "    <tr>\n",
       "      <th>1</th>\n",
       "      <td>sx4</td>\n",
       "      <td>2013</td>\n",
       "      <td>4.75</td>\n",
       "      <td>9.54</td>\n",
       "      <td>43000</td>\n",
       "      <td>Diesel</td>\n",
       "      <td>Dealer</td>\n",
       "      <td>Manual</td>\n",
       "      <td>0</td>\n",
       "    </tr>\n",
       "    <tr>\n",
       "      <th>2</th>\n",
       "      <td>ciaz</td>\n",
       "      <td>2017</td>\n",
       "      <td>7.25</td>\n",
       "      <td>9.85</td>\n",
       "      <td>6900</td>\n",
       "      <td>Petrol</td>\n",
       "      <td>Dealer</td>\n",
       "      <td>Manual</td>\n",
       "      <td>0</td>\n",
       "    </tr>\n",
       "    <tr>\n",
       "      <th>3</th>\n",
       "      <td>wagon r</td>\n",
       "      <td>2011</td>\n",
       "      <td>2.85</td>\n",
       "      <td>4.15</td>\n",
       "      <td>5200</td>\n",
       "      <td>Petrol</td>\n",
       "      <td>Dealer</td>\n",
       "      <td>Manual</td>\n",
       "      <td>0</td>\n",
       "    </tr>\n",
       "    <tr>\n",
       "      <th>4</th>\n",
       "      <td>swift</td>\n",
       "      <td>2014</td>\n",
       "      <td>4.60</td>\n",
       "      <td>6.87</td>\n",
       "      <td>42450</td>\n",
       "      <td>Diesel</td>\n",
       "      <td>Dealer</td>\n",
       "      <td>Manual</td>\n",
       "      <td>0</td>\n",
       "    </tr>\n",
       "  </tbody>\n",
       "</table>\n",
       "</div>"
      ],
      "text/plain": [
       "  Car_Name  Year  Selling_Price  Present_Price  Kms_Driven Fuel_Type  \\\n",
       "0     ritz  2014           3.35           5.59       27000    Petrol   \n",
       "1      sx4  2013           4.75           9.54       43000    Diesel   \n",
       "2     ciaz  2017           7.25           9.85        6900    Petrol   \n",
       "3  wagon r  2011           2.85           4.15        5200    Petrol   \n",
       "4    swift  2014           4.60           6.87       42450    Diesel   \n",
       "\n",
       "  Seller_Type Transmission  Owner  \n",
       "0      Dealer       Manual      0  \n",
       "1      Dealer       Manual      0  \n",
       "2      Dealer       Manual      0  \n",
       "3      Dealer       Manual      0  \n",
       "4      Dealer       Manual      0  "
      ]
     },
     "execution_count": 3,
     "metadata": {},
     "output_type": "execute_result"
    }
   ],
   "source": [
    "# loading the data from csv file to pandas dataframe\n",
    "car_data = pd.DataFrame(pd.read_csv('car data.csv'))\n",
    "\n",
    "# inspecting the first 5 rows of the DataFrame\n",
    "car_data.head()"
   ]
  },
  {
   "cell_type": "markdown",
   "id": "d04ceb95",
   "metadata": {},
   "source": [
    "## Exploratory Analysis"
   ]
  },
  {
   "cell_type": "code",
   "execution_count": 4,
   "id": "c5fe16d6",
   "metadata": {},
   "outputs": [
    {
     "name": "stdout",
     "output_type": "stream",
     "text": [
      "Shape of Given Data:  (301, 9)\n"
     ]
    }
   ],
   "source": [
    "# checking the number of rows and columns\n",
    "print('Shape of Given Data: ',car_data.shape)"
   ]
  },
  {
   "cell_type": "code",
   "execution_count": 6,
   "id": "87d0115f",
   "metadata": {},
   "outputs": [
    {
     "data": {
      "text/plain": [
       "city                   26\n",
       "corolla altis          16\n",
       "verna                  14\n",
       "fortuner               11\n",
       "brio                   10\n",
       "                       ..\n",
       "Bajaj  ct 100           1\n",
       "KTM RC390               1\n",
       "TVS Sport               1\n",
       "s cross                 1\n",
       "Hero Super Splendor     1\n",
       "Name: Car_Name, Length: 98, dtype: int64"
      ]
     },
     "execution_count": 6,
     "metadata": {},
     "output_type": "execute_result"
    }
   ],
   "source": [
    "# checking the car names using value_count() for Car_Name column\n",
    "car_data['Car_Name'].value_counts()"
   ]
  },
  {
   "cell_type": "markdown",
   "id": "cfbcff24",
   "metadata": {},
   "source": [
    "There are total 301 cars in the list among which 98 varieties of car are there with 'City' car as top sold."
   ]
  },
  {
   "cell_type": "code",
   "execution_count": 7,
   "id": "41ffe712",
   "metadata": {},
   "outputs": [
    {
     "name": "stdout",
     "output_type": "stream",
     "text": [
      "<class 'pandas.core.frame.DataFrame'>\n",
      "RangeIndex: 301 entries, 0 to 300\n",
      "Data columns (total 9 columns):\n",
      " #   Column         Non-Null Count  Dtype  \n",
      "---  ------         --------------  -----  \n",
      " 0   Car_Name       301 non-null    object \n",
      " 1   Year           301 non-null    int64  \n",
      " 2   Selling_Price  301 non-null    float64\n",
      " 3   Present_Price  301 non-null    float64\n",
      " 4   Kms_Driven     301 non-null    int64  \n",
      " 5   Fuel_Type      301 non-null    object \n",
      " 6   Seller_Type    301 non-null    object \n",
      " 7   Transmission   301 non-null    object \n",
      " 8   Owner          301 non-null    int64  \n",
      "dtypes: float64(2), int64(3), object(4)\n",
      "memory usage: 21.3+ KB\n"
     ]
    }
   ],
   "source": [
    "# getting some information about the dataset\n",
    "car_data.info()"
   ]
  },
  {
   "cell_type": "code",
   "execution_count": 8,
   "id": "3190e7aa",
   "metadata": {},
   "outputs": [
    {
     "data": {
      "text/html": [
       "<div>\n",
       "<style scoped>\n",
       "    .dataframe tbody tr th:only-of-type {\n",
       "        vertical-align: middle;\n",
       "    }\n",
       "\n",
       "    .dataframe tbody tr th {\n",
       "        vertical-align: top;\n",
       "    }\n",
       "\n",
       "    .dataframe thead th {\n",
       "        text-align: right;\n",
       "    }\n",
       "</style>\n",
       "<table border=\"1\" class=\"dataframe\">\n",
       "  <thead>\n",
       "    <tr style=\"text-align: right;\">\n",
       "      <th></th>\n",
       "      <th>Year</th>\n",
       "      <th>Selling_Price</th>\n",
       "      <th>Present_Price</th>\n",
       "      <th>Kms_Driven</th>\n",
       "      <th>Owner</th>\n",
       "    </tr>\n",
       "  </thead>\n",
       "  <tbody>\n",
       "    <tr>\n",
       "      <th>count</th>\n",
       "      <td>301.000000</td>\n",
       "      <td>301.000000</td>\n",
       "      <td>301.000000</td>\n",
       "      <td>301.000000</td>\n",
       "      <td>301.000000</td>\n",
       "    </tr>\n",
       "    <tr>\n",
       "      <th>mean</th>\n",
       "      <td>2013.627907</td>\n",
       "      <td>4.661296</td>\n",
       "      <td>7.628472</td>\n",
       "      <td>36947.205980</td>\n",
       "      <td>0.043189</td>\n",
       "    </tr>\n",
       "    <tr>\n",
       "      <th>std</th>\n",
       "      <td>2.891554</td>\n",
       "      <td>5.082812</td>\n",
       "      <td>8.644115</td>\n",
       "      <td>38886.883882</td>\n",
       "      <td>0.247915</td>\n",
       "    </tr>\n",
       "    <tr>\n",
       "      <th>min</th>\n",
       "      <td>2003.000000</td>\n",
       "      <td>0.100000</td>\n",
       "      <td>0.320000</td>\n",
       "      <td>500.000000</td>\n",
       "      <td>0.000000</td>\n",
       "    </tr>\n",
       "    <tr>\n",
       "      <th>25%</th>\n",
       "      <td>2012.000000</td>\n",
       "      <td>0.900000</td>\n",
       "      <td>1.200000</td>\n",
       "      <td>15000.000000</td>\n",
       "      <td>0.000000</td>\n",
       "    </tr>\n",
       "    <tr>\n",
       "      <th>50%</th>\n",
       "      <td>2014.000000</td>\n",
       "      <td>3.600000</td>\n",
       "      <td>6.400000</td>\n",
       "      <td>32000.000000</td>\n",
       "      <td>0.000000</td>\n",
       "    </tr>\n",
       "    <tr>\n",
       "      <th>75%</th>\n",
       "      <td>2016.000000</td>\n",
       "      <td>6.000000</td>\n",
       "      <td>9.900000</td>\n",
       "      <td>48767.000000</td>\n",
       "      <td>0.000000</td>\n",
       "    </tr>\n",
       "    <tr>\n",
       "      <th>max</th>\n",
       "      <td>2018.000000</td>\n",
       "      <td>35.000000</td>\n",
       "      <td>92.600000</td>\n",
       "      <td>500000.000000</td>\n",
       "      <td>3.000000</td>\n",
       "    </tr>\n",
       "  </tbody>\n",
       "</table>\n",
       "</div>"
      ],
      "text/plain": [
       "              Year  Selling_Price  Present_Price     Kms_Driven       Owner\n",
       "count   301.000000     301.000000     301.000000     301.000000  301.000000\n",
       "mean   2013.627907       4.661296       7.628472   36947.205980    0.043189\n",
       "std       2.891554       5.082812       8.644115   38886.883882    0.247915\n",
       "min    2003.000000       0.100000       0.320000     500.000000    0.000000\n",
       "25%    2012.000000       0.900000       1.200000   15000.000000    0.000000\n",
       "50%    2014.000000       3.600000       6.400000   32000.000000    0.000000\n",
       "75%    2016.000000       6.000000       9.900000   48767.000000    0.000000\n",
       "max    2018.000000      35.000000      92.600000  500000.000000    3.000000"
      ]
     },
     "execution_count": 8,
     "metadata": {},
     "output_type": "execute_result"
    }
   ],
   "source": [
    "# getting descriptive information from the dataset\n",
    "car_data.describe()"
   ]
  },
  {
   "cell_type": "code",
   "execution_count": 9,
   "id": "ef04e9e3",
   "metadata": {},
   "outputs": [
    {
     "data": {
      "text/plain": [
       "Car_Name         0\n",
       "Year             0\n",
       "Selling_Price    0\n",
       "Present_Price    0\n",
       "Kms_Driven       0\n",
       "Fuel_Type        0\n",
       "Seller_Type      0\n",
       "Transmission     0\n",
       "Owner            0\n",
       "dtype: int64"
      ]
     },
     "execution_count": 9,
     "metadata": {},
     "output_type": "execute_result"
    }
   ],
   "source": [
    "# checcking the number of missing values\n",
    "car_data.isnull().sum()"
   ]
  },
  {
   "cell_type": "markdown",
   "id": "9f8cc5fe",
   "metadata": {},
   "source": [
    "No missing values are present in dataset."
   ]
  },
  {
   "cell_type": "code",
   "execution_count": 11,
   "id": "7cc90e56",
   "metadata": {},
   "outputs": [
    {
     "name": "stdout",
     "output_type": "stream",
     "text": [
      "Petrol    239\n",
      "Diesel     60\n",
      "CNG         2\n",
      "Name: Fuel_Type, dtype: int64\n",
      "Dealer        195\n",
      "Individual    106\n",
      "Name: Seller_Type, dtype: int64\n",
      "Manual       261\n",
      "Automatic     40\n",
      "Name: Transmission, dtype: int64\n"
     ]
    }
   ],
   "source": [
    "# checking the distribution of categorical data\n",
    "\n",
    "print(car_data['Fuel_Type'].value_counts())\n",
    "print(car_data['Seller_Type'].value_counts())\n",
    "print(car_data['Transmission'].value_counts())"
   ]
  },
  {
   "cell_type": "markdown",
   "id": "9bd333ac",
   "metadata": {},
   "source": [
    "In Fuel Type, Petrol cars are the highest among all of the fuel types and CNG with only 2 cars.  \n",
    "\n",
    "In case of Seller types, Dealers are maximum than the Individual seller of cars.    \n",
    "\n",
    "**Transmission moves the power from the engine to the wheels, like gearbox.**  \n",
    "Manual Transmission cars are cars with the gearbox in it whereas Automatic Transmission cars are the gearless cars.   \n",
    "Max number of the cars are Manually Transmissioned.  "
   ]
  },
  {
   "cell_type": "markdown",
   "id": "d7dbd836",
   "metadata": {},
   "source": [
    "## Encoding the Categorical Data"
   ]
  },
  {
   "cell_type": "markdown",
   "id": "b932a0e9",
   "metadata": {},
   "source": [
    "Encoding is a method to concatenate the object data into numeric form.  \n",
    "\n",
    "Therefore, Fuel_Types, Seller_Types and Transmission data can be encoded in numeric form as    \n",
    "**Fuel_Type** :  Petrol:0 , Diesel:1 , CNG:2    \n",
    "**Seller_Type** : Dealer:0  , Individual:1    \n",
    "**Transmission** : Manual:0 , Automatic:1  \n"
   ]
  },
  {
   "cell_type": "code",
   "execution_count": 12,
   "id": "e9260cf7",
   "metadata": {},
   "outputs": [
    {
     "data": {
      "text/html": [
       "<div>\n",
       "<style scoped>\n",
       "    .dataframe tbody tr th:only-of-type {\n",
       "        vertical-align: middle;\n",
       "    }\n",
       "\n",
       "    .dataframe tbody tr th {\n",
       "        vertical-align: top;\n",
       "    }\n",
       "\n",
       "    .dataframe thead th {\n",
       "        text-align: right;\n",
       "    }\n",
       "</style>\n",
       "<table border=\"1\" class=\"dataframe\">\n",
       "  <thead>\n",
       "    <tr style=\"text-align: right;\">\n",
       "      <th></th>\n",
       "      <th>Car_Name</th>\n",
       "      <th>Year</th>\n",
       "      <th>Selling_Price</th>\n",
       "      <th>Present_Price</th>\n",
       "      <th>Kms_Driven</th>\n",
       "      <th>Fuel_Type</th>\n",
       "      <th>Seller_Type</th>\n",
       "      <th>Transmission</th>\n",
       "      <th>Owner</th>\n",
       "    </tr>\n",
       "  </thead>\n",
       "  <tbody>\n",
       "    <tr>\n",
       "      <th>0</th>\n",
       "      <td>ritz</td>\n",
       "      <td>2014</td>\n",
       "      <td>3.35</td>\n",
       "      <td>5.59</td>\n",
       "      <td>27000</td>\n",
       "      <td>0</td>\n",
       "      <td>0</td>\n",
       "      <td>0</td>\n",
       "      <td>0</td>\n",
       "    </tr>\n",
       "    <tr>\n",
       "      <th>1</th>\n",
       "      <td>sx4</td>\n",
       "      <td>2013</td>\n",
       "      <td>4.75</td>\n",
       "      <td>9.54</td>\n",
       "      <td>43000</td>\n",
       "      <td>1</td>\n",
       "      <td>0</td>\n",
       "      <td>0</td>\n",
       "      <td>0</td>\n",
       "    </tr>\n",
       "    <tr>\n",
       "      <th>2</th>\n",
       "      <td>ciaz</td>\n",
       "      <td>2017</td>\n",
       "      <td>7.25</td>\n",
       "      <td>9.85</td>\n",
       "      <td>6900</td>\n",
       "      <td>0</td>\n",
       "      <td>0</td>\n",
       "      <td>0</td>\n",
       "      <td>0</td>\n",
       "    </tr>\n",
       "    <tr>\n",
       "      <th>3</th>\n",
       "      <td>wagon r</td>\n",
       "      <td>2011</td>\n",
       "      <td>2.85</td>\n",
       "      <td>4.15</td>\n",
       "      <td>5200</td>\n",
       "      <td>0</td>\n",
       "      <td>0</td>\n",
       "      <td>0</td>\n",
       "      <td>0</td>\n",
       "    </tr>\n",
       "    <tr>\n",
       "      <th>4</th>\n",
       "      <td>swift</td>\n",
       "      <td>2014</td>\n",
       "      <td>4.60</td>\n",
       "      <td>6.87</td>\n",
       "      <td>42450</td>\n",
       "      <td>1</td>\n",
       "      <td>0</td>\n",
       "      <td>0</td>\n",
       "      <td>0</td>\n",
       "    </tr>\n",
       "  </tbody>\n",
       "</table>\n",
       "</div>"
      ],
      "text/plain": [
       "  Car_Name  Year  Selling_Price  Present_Price  Kms_Driven  Fuel_Type  \\\n",
       "0     ritz  2014           3.35           5.59       27000          0   \n",
       "1      sx4  2013           4.75           9.54       43000          1   \n",
       "2     ciaz  2017           7.25           9.85        6900          0   \n",
       "3  wagon r  2011           2.85           4.15        5200          0   \n",
       "4    swift  2014           4.60           6.87       42450          1   \n",
       "\n",
       "   Seller_Type  Transmission  Owner  \n",
       "0            0             0      0  \n",
       "1            0             0      0  \n",
       "2            0             0      0  \n",
       "3            0             0      0  \n",
       "4            0             0      0  "
      ]
     },
     "execution_count": 12,
     "metadata": {},
     "output_type": "execute_result"
    }
   ],
   "source": [
    "#encoding fuel_type column\n",
    "car_data.replace({'Fuel_Type':{'Petrol':0,'Diesel':1,'CNG':2}},inplace=True)\n",
    "\n",
    "#encoding seller_type column\n",
    "car_data.replace({'Seller_Type':{'Dealer':0,'Individual':1}},inplace=True)\n",
    "\n",
    "#encoding transmission column\n",
    "car_data.replace({'Transmission':{'Manual':0,'Automatic':1}},inplace=True)\n",
    "\n",
    "car_data.head()"
   ]
  },
  {
   "cell_type": "code",
   "execution_count": 13,
   "id": "f74342ef",
   "metadata": {},
   "outputs": [
    {
     "data": {
      "text/html": [
       "<div>\n",
       "<style scoped>\n",
       "    .dataframe tbody tr th:only-of-type {\n",
       "        vertical-align: middle;\n",
       "    }\n",
       "\n",
       "    .dataframe tbody tr th {\n",
       "        vertical-align: top;\n",
       "    }\n",
       "\n",
       "    .dataframe thead th {\n",
       "        text-align: right;\n",
       "    }\n",
       "</style>\n",
       "<table border=\"1\" class=\"dataframe\">\n",
       "  <thead>\n",
       "    <tr style=\"text-align: right;\">\n",
       "      <th></th>\n",
       "      <th>Year</th>\n",
       "      <th>Selling_Price</th>\n",
       "      <th>Present_Price</th>\n",
       "      <th>Kms_Driven</th>\n",
       "      <th>Fuel_Type</th>\n",
       "      <th>Seller_Type</th>\n",
       "      <th>Transmission</th>\n",
       "      <th>Owner</th>\n",
       "    </tr>\n",
       "  </thead>\n",
       "  <tbody>\n",
       "    <tr>\n",
       "      <th>Year</th>\n",
       "      <td>1.000000</td>\n",
       "      <td>0.236141</td>\n",
       "      <td>-0.047584</td>\n",
       "      <td>-0.524342</td>\n",
       "      <td>0.053643</td>\n",
       "      <td>-0.039896</td>\n",
       "      <td>-0.000394</td>\n",
       "      <td>-0.182104</td>\n",
       "    </tr>\n",
       "    <tr>\n",
       "      <th>Selling_Price</th>\n",
       "      <td>0.236141</td>\n",
       "      <td>1.000000</td>\n",
       "      <td>0.878983</td>\n",
       "      <td>0.029187</td>\n",
       "      <td>0.509467</td>\n",
       "      <td>-0.550724</td>\n",
       "      <td>0.367128</td>\n",
       "      <td>-0.088344</td>\n",
       "    </tr>\n",
       "    <tr>\n",
       "      <th>Present_Price</th>\n",
       "      <td>-0.047584</td>\n",
       "      <td>0.878983</td>\n",
       "      <td>1.000000</td>\n",
       "      <td>0.203647</td>\n",
       "      <td>0.440415</td>\n",
       "      <td>-0.512030</td>\n",
       "      <td>0.348715</td>\n",
       "      <td>0.008057</td>\n",
       "    </tr>\n",
       "    <tr>\n",
       "      <th>Kms_Driven</th>\n",
       "      <td>-0.524342</td>\n",
       "      <td>0.029187</td>\n",
       "      <td>0.203647</td>\n",
       "      <td>1.000000</td>\n",
       "      <td>0.166801</td>\n",
       "      <td>-0.101419</td>\n",
       "      <td>0.162510</td>\n",
       "      <td>0.089216</td>\n",
       "    </tr>\n",
       "    <tr>\n",
       "      <th>Fuel_Type</th>\n",
       "      <td>0.053643</td>\n",
       "      <td>0.509467</td>\n",
       "      <td>0.440415</td>\n",
       "      <td>0.166801</td>\n",
       "      <td>1.000000</td>\n",
       "      <td>-0.352415</td>\n",
       "      <td>0.080466</td>\n",
       "      <td>-0.055705</td>\n",
       "    </tr>\n",
       "    <tr>\n",
       "      <th>Seller_Type</th>\n",
       "      <td>-0.039896</td>\n",
       "      <td>-0.550724</td>\n",
       "      <td>-0.512030</td>\n",
       "      <td>-0.101419</td>\n",
       "      <td>-0.352415</td>\n",
       "      <td>1.000000</td>\n",
       "      <td>-0.063240</td>\n",
       "      <td>0.124269</td>\n",
       "    </tr>\n",
       "    <tr>\n",
       "      <th>Transmission</th>\n",
       "      <td>-0.000394</td>\n",
       "      <td>0.367128</td>\n",
       "      <td>0.348715</td>\n",
       "      <td>0.162510</td>\n",
       "      <td>0.080466</td>\n",
       "      <td>-0.063240</td>\n",
       "      <td>1.000000</td>\n",
       "      <td>0.050316</td>\n",
       "    </tr>\n",
       "    <tr>\n",
       "      <th>Owner</th>\n",
       "      <td>-0.182104</td>\n",
       "      <td>-0.088344</td>\n",
       "      <td>0.008057</td>\n",
       "      <td>0.089216</td>\n",
       "      <td>-0.055705</td>\n",
       "      <td>0.124269</td>\n",
       "      <td>0.050316</td>\n",
       "      <td>1.000000</td>\n",
       "    </tr>\n",
       "  </tbody>\n",
       "</table>\n",
       "</div>"
      ],
      "text/plain": [
       "                   Year  Selling_Price  Present_Price  Kms_Driven  Fuel_Type  \\\n",
       "Year           1.000000       0.236141      -0.047584   -0.524342   0.053643   \n",
       "Selling_Price  0.236141       1.000000       0.878983    0.029187   0.509467   \n",
       "Present_Price -0.047584       0.878983       1.000000    0.203647   0.440415   \n",
       "Kms_Driven    -0.524342       0.029187       0.203647    1.000000   0.166801   \n",
       "Fuel_Type      0.053643       0.509467       0.440415    0.166801   1.000000   \n",
       "Seller_Type   -0.039896      -0.550724      -0.512030   -0.101419  -0.352415   \n",
       "Transmission  -0.000394       0.367128       0.348715    0.162510   0.080466   \n",
       "Owner         -0.182104      -0.088344       0.008057    0.089216  -0.055705   \n",
       "\n",
       "               Seller_Type  Transmission     Owner  \n",
       "Year             -0.039896     -0.000394 -0.182104  \n",
       "Selling_Price    -0.550724      0.367128 -0.088344  \n",
       "Present_Price    -0.512030      0.348715  0.008057  \n",
       "Kms_Driven       -0.101419      0.162510  0.089216  \n",
       "Fuel_Type        -0.352415      0.080466 -0.055705  \n",
       "Seller_Type       1.000000     -0.063240  0.124269  \n",
       "Transmission     -0.063240      1.000000  0.050316  \n",
       "Owner             0.124269      0.050316  1.000000  "
      ]
     },
     "execution_count": 13,
     "metadata": {},
     "output_type": "execute_result"
    }
   ],
   "source": [
    "car_data.corr()"
   ]
  },
  {
   "cell_type": "code",
   "execution_count": 14,
   "id": "780bd591",
   "metadata": {},
   "outputs": [
    {
     "data": {
      "image/png": "[encoded data removed]",
      "text/plain": [
       "<Figure size 720x504 with 2 Axes>"
      ]
     },
     "metadata": {
      "needs_background": "light"
     },
     "output_type": "display_data"
    }
   ],
   "source": [
    "# vizualising the heatmap of correlation coefficients among the columns of car data\n",
    "\n",
    "plt.figure(figsize=(10,7))\n",
    "sns.heatmap(car_data.corr(),annot=True)\n",
    "plt.show()"
   ]
  },
  {
   "cell_type": "markdown",
   "id": "d4af6b38",
   "metadata": {},
   "source": [
    "## Training and Testing Data\n"
   ]
  },
  {
   "cell_type": "markdown",
   "id": "751e9267",
   "metadata": {},
   "source": [
    "### Model Building\n"
   ]
  },
  {
   "cell_type": "markdown",
   "id": "0865f671",
   "metadata": {},
   "source": [
    "**Performing Simple Linear Regression**    \n",
    "\n",
    "Equation of linear regression:    \n",
    "\n",
    "y=c+m1x1+m2x2+...+mnxn;       \n",
    "y is the response;   \n",
    "c is the intercept;    \n",
    "m1 is the coefficient for the first feature;       \n",
    "mn is the coefficient for the nth feature;       \n",
    "\n",
    "The m values are called the model coefficients or model parameters.        \n",
    "\n",
    "We first assign the feature variable in this case to the variable X and the response variable to the variable y.  "
   ]
  },
  {
   "cell_type": "code",
   "execution_count": 15,
   "id": "35a4ee7c",
   "metadata": {},
   "outputs": [],
   "source": [
    "# assigning the variable columns to the variable\n",
    "\n",
    "X = car_data.drop(['Car_Name','Selling_Price'],axis=1)\n",
    "y = car_data['Selling_Price']"
   ]
  },
  {
   "cell_type": "markdown",
   "id": "01646a85",
   "metadata": {},
   "source": [
    "### Train-Test Split"
   ]
  },
  {
   "cell_type": "markdown",
   "id": "c0b5063f",
   "metadata": {},
   "source": [
    "   \n",
    "\n",
    "In this, we need to split our variable into training and testing sets. We will perform this by importing train_test_split from the sklearn.model_selection library. It is usually a good practice to keep 70% of the data in your train dataset and the rest 30% in your test dataset.    \n",
    "\n"
   ]
  },
  {
   "cell_type": "code",
   "execution_count": 16,
   "id": "5f614522",
   "metadata": {},
   "outputs": [],
   "source": [
    "# importing train_test_split from the sklearn.model_selection library.\n",
    "\n",
    "from sklearn.model_selection import train_test_split"
   ]
  },
  {
   "cell_type": "code",
   "execution_count": 17,
   "id": "292076bb",
   "metadata": {},
   "outputs": [],
   "source": [
    "# applying train_test_split to the assigned variables\n",
    "\n",
    "X_train, X_test, y_train, y_test = train_test_split(X, y, test_size=0.33, random_state=99)"
   ]
  },
  {
   "cell_type": "code",
   "execution_count": 18,
   "id": "cdbe429a",
   "metadata": {},
   "outputs": [],
   "source": [
    "# importing LinearRegression from sklearn.linearmodel library\n",
    "from sklearn.linear_model import LinearRegression\n",
    "\n",
    "#assigning a variable 'lm' to the imported library\n",
    "lm = LinearRegression()"
   ]
  },
  {
   "cell_type": "code",
   "execution_count": 19,
   "id": "eeb6a2fb",
   "metadata": {},
   "outputs": [
    {
     "data": {
      "text/plain": [
       "LinearRegression()"
      ]
     },
     "execution_count": 19,
     "metadata": {},
     "output_type": "execute_result"
    }
   ],
   "source": [
    "# fit the model using training part of data\n",
    "\n",
    "lm.fit(X_train,y_train)"
   ]
  },
  {
   "cell_type": "code",
   "execution_count": 20,
   "id": "f9b1ab87",
   "metadata": {},
   "outputs": [
    {
     "name": "stdout",
     "output_type": "stream",
     "text": [
      "c:  -448.03199498215685\n"
     ]
    }
   ],
   "source": [
    "# value of intercept \"c\"\n",
    "print(\"c: \",lm.intercept_)"
   ]
  },
  {
   "cell_type": "code",
   "execution_count": 21,
   "id": "7e4b9804",
   "metadata": {},
   "outputs": [
    {
     "name": "stdout",
     "output_type": "stream",
     "text": [
      "Coefficients: [ 2.23413246e-01  5.73283925e-01 -4.78034071e-05  1.60441149e+00\n",
      " -7.07028714e-01  1.16011291e-01 -4.24007210e-01]\n"
     ]
    }
   ],
   "source": [
    "# coefficient of lm model\n",
    "\n",
    "print('Coefficients:',lm.coef_)"
   ]
  },
  {
   "cell_type": "markdown",
   "id": "9a4f47ee",
   "metadata": {},
   "source": [
    "## Predicting Train & Test Data"
   ]
  },
  {
   "cell_type": "markdown",
   "id": "bc8e0f87",
   "metadata": {},
   "source": [
    "**After we have fit our model, let's evaluate its performance by predicting off the train values.**"
   ]
  },
  {
   "cell_type": "code",
   "execution_count": 22,
   "id": "7eaac232",
   "metadata": {},
   "outputs": [
    {
     "data": {
      "text/plain": [
       "array([ 6.00797768e+00,  6.56665920e+00,  6.21898603e-03,  4.09468497e+00,\n",
       "        4.89872192e+00,  5.15626846e+00,  5.32903971e+00,  7.94348943e+00,\n",
       "        1.97667618e+00,  4.17257677e+00,  6.78159518e-01,  3.63386078e+00,\n",
       "        1.23731802e+00,  2.65986552e+00,  7.07971477e+00,  7.26429127e+00,\n",
       "        4.04914496e+00,  1.38070234e+01, -8.52373040e-01,  4.24219154e+00,\n",
       "        5.08788027e+00,  1.14102388e+01,  1.33357772e+00,  6.71686193e+00,\n",
       "        1.72589109e+01,  1.46654910e+00,  4.19170472e+00,  1.85865783e+00,\n",
       "        1.43368940e+00,  6.63816118e+00,  8.10089515e+00,  6.57551200e+00,\n",
       "        7.31725171e-01,  2.24083936e+00,  1.78395658e+00,  1.16463832e+00,\n",
       "        5.75124432e+00,  9.95672615e+00,  9.26714218e+00,  6.90764035e+00,\n",
       "        6.61105212e+00,  1.02165288e+01,  3.88554459e+00,  7.07191637e+00,\n",
       "        2.57411478e-01,  7.85988337e+00,  4.23372068e+00,  1.15362953e+01,\n",
       "        1.78608261e+00,  9.48552639e-01,  4.00805047e+00,  2.08832401e+00,\n",
       "        1.18974924e+00,  2.90779369e+00,  4.67843570e+00,  1.01478542e+01,\n",
       "        7.80078341e+00, -1.22534153e+00,  1.07573033e+00,  4.61277007e+00,\n",
       "        6.99347938e+00,  6.54099537e+00,  4.04284505e+00,  2.57054519e-01,\n",
       "        1.28626440e+01,  4.24530309e+00,  9.81333256e-01,  3.56988698e+00,\n",
       "        1.33731543e+00,  2.10266503e+00,  1.44378523e+00,  4.34233325e+00,\n",
       "        3.15666045e+00,  5.32282527e+00,  3.24521582e-01,  4.58150092e-01,\n",
       "        6.08349695e+00,  3.50908750e+00,  3.29231154e+00, -3.15956178e-01,\n",
       "        2.47962002e+01,  8.29613598e+00, -2.54971579e+00,  1.49297162e+01,\n",
       "        1.19653787e+01,  5.99620815e+00,  1.04084393e+01,  9.64088801e+00,\n",
       "        2.11193764e+00, -1.36215950e+00,  4.68303393e+00, -3.28130290e-01,\n",
       "       -5.10023186e-02,  1.37828340e+01, -2.45494643e-01,  2.23173423e+00,\n",
       "        1.16384071e+00,  1.62387914e+00,  1.04829756e+00,  6.97849149e+00,\n",
       "        2.06376223e+00,  2.40254608e+00,  1.90818452e+00,  1.74130565e+00,\n",
       "        9.96666536e+00,  6.39144202e+00, -1.09757954e-01,  6.67538539e+00,\n",
       "        4.14040906e+00,  2.60790856e+00,  8.81168253e+00,  9.50271795e+00,\n",
       "        4.32310282e+00,  1.46445554e+00, -2.56346813e+00, -5.23894213e-01,\n",
       "        1.95022022e+01,  8.22358019e+00,  3.55750579e+00,  1.66154388e+00,\n",
       "        1.76001504e+00,  1.05368444e+00,  7.54964010e+00, -4.52914751e-01,\n",
       "        2.20238246e+00, -4.24472417e-01,  2.04600107e+00,  4.83169004e+00,\n",
       "        2.53222597e+00,  1.04554981e+01,  9.49376171e-01,  9.64997844e+00,\n",
       "        4.83659366e+00, -2.06422255e+00, -8.10702814e-01,  1.92958207e+00,\n",
       "        5.53235551e+00,  2.90187214e+00,  4.38448009e+00, -3.09788193e+00,\n",
       "        4.95479858e-01,  3.83624669e+00,  8.74727099e+00,  3.69493366e+00,\n",
       "        4.21176498e+00,  8.99887086e+00,  8.38255538e+00,  2.92047591e+00,\n",
       "        1.06689539e+00,  3.33336662e+00,  4.23395174e-01,  7.24309719e+00,\n",
       "        5.89306987e-01, -3.88291477e-01,  1.97124563e+00,  7.91557566e-01,\n",
       "        8.70242359e+00,  8.31704033e+00,  7.26281966e+00,  1.46873552e+00,\n",
       "        8.01473158e+00,  5.14340129e+00,  4.66918477e+00,  8.54105334e+00,\n",
       "        5.52391399e+00,  7.21107025e-01,  3.62236549e+00,  1.07899169e+00,\n",
       "        2.88173186e+00, -5.76489499e-02,  2.46994651e+00,  8.10370657e+00,\n",
       "        2.05293285e+01,  5.91340795e+00,  5.60053101e+00,  4.20801215e+00,\n",
       "        4.48037718e+00, -5.93117593e-01,  1.00524133e+01,  1.64895956e+01,\n",
       "        4.45798561e+00,  3.43849436e+00,  1.50071266e-01, -2.68505110e+00,\n",
       "        1.85841210e+00,  5.13862095e+00,  6.34978174e+00,  2.22980546e+01,\n",
       "        4.17776841e+00, -2.87141000e-01,  6.19717835e+00,  4.78142675e+00,\n",
       "       -9.63537786e-01,  4.92226312e+00,  2.40239422e+00,  1.01239114e+01,\n",
       "        3.32903308e+00,  8.36695963e-01,  2.32462849e-01,  6.50800762e+00,\n",
       "        2.12803403e+00])"
      ]
     },
     "execution_count": 22,
     "metadata": {},
     "output_type": "execute_result"
    }
   ],
   "source": [
    "# predicting the model using predict(feature variable train part)\n",
    "\n",
    "predictions = lm.predict(X_train)\n",
    "predictions"
   ]
  },
  {
   "cell_type": "code",
   "execution_count": 23,
   "id": "96978509",
   "metadata": {},
   "outputs": [
    {
     "name": "stdout",
     "output_type": "stream",
     "text": [
      "209    4.85\n",
      "265    6.50\n",
      "174    0.38\n",
      "241    4.75\n",
      "214    5.25\n",
      "       ... \n",
      "201    3.25\n",
      "168    0.42\n",
      "185    0.25\n",
      "35     2.95\n",
      "129    0.78\n",
      "Name: Selling_Price, Length: 201, dtype: float64\n"
     ]
    }
   ],
   "source": [
    "print(y_train)"
   ]
  },
  {
   "cell_type": "code",
   "execution_count": 24,
   "id": "270bb045",
   "metadata": {},
   "outputs": [
    {
     "data": {
      "image/png": "[encoded data removed]",
      "text/plain": [
       "<Figure size 432x288 with 1 Axes>"
      ]
     },
     "metadata": {
      "needs_background": "light"
     },
     "output_type": "display_data"
    }
   ],
   "source": [
    "#vizualisation of train values of prices\n",
    "\n",
    "plt.scatter(y_train,predictions)\n",
    "plt.xlabel(\"Actual Price\")\n",
    "plt.ylabel(\"Predicted Price\")\n",
    "plt.title(\" Actual Prices vs Predicted Prices on training data\")\n",
    "plt.show()"
   ]
  },
  {
   "cell_type": "code",
   "execution_count": 25,
   "id": "b5e9311a",
   "metadata": {},
   "outputs": [
    {
     "data": {
      "text/plain": [
       "array([  4.55428314,   1.07509547,   0.62741846,   5.95892149,\n",
       "         1.03850486,   6.67283101,  10.93275117,   8.10370657,\n",
       "         4.18029658,  -0.20681485,   7.08806078,   7.90952443,\n",
       "         4.03741759,   3.9421103 ,   6.26561417,   8.76881045,\n",
       "        -1.29066658,   7.79653696,   0.58771874,   8.43337701,\n",
       "        22.23464739,   6.55916001,  -0.19330914,   8.51021792,\n",
       "         5.95625676,   5.49028538,   3.21275396,   4.37580562,\n",
       "         2.36796786,  15.73874744,   2.71472432,   5.0458419 ,\n",
       "         0.53392577,   3.8660093 ,  -2.58906799,   2.0799647 ,\n",
       "         2.86194454,   2.42826068,   5.03185602,   5.07469354,\n",
       "        -4.55114184,   2.10611557,   3.38259238,   6.01844414,\n",
       "         4.61973633,   2.74538276,   7.25759879,   1.44483382,\n",
       "         1.22193402,   8.75683168,  19.50220224,   6.33824881,\n",
       "         5.43589897,  18.15157182,   5.82453306,   9.69064355,\n",
       "         6.20475425,   5.90224742,   1.30240494,   1.78577234,\n",
       "         0.64282802,   4.31121323,   1.82294064,   9.08201838,\n",
       "         0.77981347,   5.00930331,   8.70314965,   4.26214977,\n",
       "         2.2565104 ,   5.47336076,   4.06535708,   3.67014501,\n",
       "         2.18279734,   4.88760995,   5.19868026,   2.26280037,\n",
       "       -23.61281126,   1.41737723,   0.71453313,   2.39570426,\n",
       "        51.99046578,  -0.59176265,   0.75545586,   1.13471436,\n",
       "         2.81275854,  15.45421796,   6.92363372,  -6.00623822,\n",
       "         5.81364103,   4.66387817,   5.359863  ,   6.83851194,\n",
       "         0.95758068,  -1.80740329,   0.82074621,   1.50804042,\n",
       "        -9.25857774,   0.92724786,   1.98031894,   8.90119797])"
      ]
     },
     "execution_count": 25,
     "metadata": {},
     "output_type": "execute_result"
    }
   ],
   "source": [
    "# predicting the model using predict(feature variable test part)\n",
    "\n",
    "test_predictions  = lm.predict(X_test)\n",
    "test_predictions"
   ]
  },
  {
   "cell_type": "code",
   "execution_count": 26,
   "id": "93d65c45",
   "metadata": {},
   "outputs": [
    {
     "name": "stdout",
     "output_type": "stream",
     "text": [
      "10     2.85\n",
      "121    1.05\n",
      "44     1.25\n",
      "43     5.50\n",
      "118    1.10\n",
      "       ... \n",
      "24     2.90\n",
      "179    0.31\n",
      "172    0.40\n",
      "106    1.35\n",
      "277    9.70\n",
      "Name: Selling_Price, Length: 100, dtype: float64\n"
     ]
    }
   ],
   "source": [
    "print(y_test)"
   ]
  },
  {
   "cell_type": "code",
   "execution_count": 27,
   "id": "42223abe",
   "metadata": {},
   "outputs": [
    {
     "data": {
      "image/png": "[encoded data removed]",
      "text/plain": [
       "<Figure size 432x288 with 1 Axes>"
      ]
     },
     "metadata": {
      "needs_background": "light"
     },
     "output_type": "display_data"
    }
   ],
   "source": [
    "#vizualisation of test values of prices\n",
    "\n",
    "plt.scatter(y_test,test_predictions)\n",
    "plt.xlabel(\"Actual Price\")\n",
    "plt.ylabel(\"Predicted Price\")\n",
    "plt.title(\" Actual Prices vs Predicted Prices on Test data\")\n",
    "plt.show()"
   ]
  },
  {
   "cell_type": "markdown",
   "id": "910bb9e9",
   "metadata": {},
   "source": [
    "## Model Evaluation"
   ]
  },
  {
   "cell_type": "code",
   "execution_count": 28,
   "id": "f2edc5b6",
   "metadata": {},
   "outputs": [],
   "source": [
    "# importing metrices from sklearn library for model evaluation\n",
    "\n",
    "from sklearn import metrics"
   ]
  },
  {
   "cell_type": "markdown",
   "id": "df3fd60b",
   "metadata": {},
   "source": [
    "### For Train Data"
   ]
  },
  {
   "cell_type": "code",
   "execution_count": 30,
   "id": "97d7d8f8",
   "metadata": {},
   "outputs": [
    {
     "name": "stdout",
     "output_type": "stream",
     "text": [
      "For Train Data\n",
      "Mean Absolute Error: 1.1237669340204568\n",
      "Mean Squared Error: 2.5286426167219647\n",
      "Root Mean Squared Error: 1.5901706250342964\n",
      "Explained Variance Score: 0.8884649415629285\n",
      "R-squared error for train data: 0.8884649415629285\n"
     ]
    }
   ],
   "source": [
    "print('For Train Data')\n",
    "#Mean absolute error\n",
    "print('Mean Absolute Error:', metrics.mean_absolute_error(y_train,predictions))\n",
    "#Mean squared error \n",
    "print('Mean Squared Error:', metrics.mean_squared_error(y_train,predictions))\n",
    "#Root mean squared error\n",
    "print('Root Mean Squared Error:', np.sqrt(metrics.mean_squared_error(y_train,predictions)))\n",
    "#explained variance score\n",
    "print('Explained Variance Score:',metrics.explained_variance_score(y_train,predictions))\n",
    "# R-squared error\n",
    "print('R-squared error for train data:',metrics.r2_score(y_train,predictions))\n"
   ]
  },
  {
   "cell_type": "markdown",
   "id": "f3ffe987",
   "metadata": {},
   "source": [
    "### For Test Data"
   ]
  },
  {
   "cell_type": "code",
   "execution_count": 31,
   "id": "fd3fc2e5",
   "metadata": {},
   "outputs": [
    {
     "name": "stdout",
     "output_type": "stream",
     "text": [
      "For Test Data\n",
      "Mean Absolute Error: 1.5585141331655887\n",
      "Mean Squared Error: 11.976397910522998\n",
      "Root Mean Squared Error: 3.460693270216677\n",
      "Explained Variance Score: 0.6281687281710713\n",
      "R-squared error for test data:  0.6236623334401712\n"
     ]
    }
   ],
   "source": [
    "print('For Test Data')\n",
    "#Mean absolute error\n",
    "print('Mean Absolute Error:', metrics.mean_absolute_error(y_test,test_predictions))\n",
    "#Mean squared error \n",
    "print('Mean Squared Error:', metrics.mean_squared_error(y_test,test_predictions))\n",
    "#Root mean squared error\n",
    "print('Root Mean Squared Error:', np.sqrt(metrics.mean_squared_error(y_test,test_predictions)))\n",
    "#explained variance score\n",
    "print('Explained Variance Score:',metrics.explained_variance_score(y_test,test_predictions))\n",
    "#'R-squared error for test data\n",
    "print('R-squared error for test data: ',metrics.r2_score(y_test,test_predictions))\n"
   ]
  },
  {
   "cell_type": "code",
   "execution_count": 32,
   "id": "e5e6e58e",
   "metadata": {},
   "outputs": [
    {
     "data": {
      "text/html": [
       "<div>\n",
       "<style scoped>\n",
       "    .dataframe tbody tr th:only-of-type {\n",
       "        vertical-align: middle;\n",
       "    }\n",
       "\n",
       "    .dataframe tbody tr th {\n",
       "        vertical-align: top;\n",
       "    }\n",
       "\n",
       "    .dataframe thead th {\n",
       "        text-align: right;\n",
       "    }\n",
       "</style>\n",
       "<table border=\"1\" class=\"dataframe\">\n",
       "  <thead>\n",
       "    <tr style=\"text-align: right;\">\n",
       "      <th></th>\n",
       "      <th>Coefficients</th>\n",
       "    </tr>\n",
       "  </thead>\n",
       "  <tbody>\n",
       "    <tr>\n",
       "      <th>Year</th>\n",
       "      <td>0.223413</td>\n",
       "    </tr>\n",
       "    <tr>\n",
       "      <th>Present_Price</th>\n",
       "      <td>0.573284</td>\n",
       "    </tr>\n",
       "    <tr>\n",
       "      <th>Kms_Driven</th>\n",
       "      <td>-0.000048</td>\n",
       "    </tr>\n",
       "    <tr>\n",
       "      <th>Fuel_Type</th>\n",
       "      <td>1.604411</td>\n",
       "    </tr>\n",
       "    <tr>\n",
       "      <th>Seller_Type</th>\n",
       "      <td>-0.707029</td>\n",
       "    </tr>\n",
       "    <tr>\n",
       "      <th>Transmission</th>\n",
       "      <td>0.116011</td>\n",
       "    </tr>\n",
       "    <tr>\n",
       "      <th>Owner</th>\n",
       "      <td>-0.424007</td>\n",
       "    </tr>\n",
       "  </tbody>\n",
       "</table>\n",
       "</div>"
      ],
      "text/plain": [
       "               Coefficients\n",
       "Year               0.223413\n",
       "Present_Price      0.573284\n",
       "Kms_Driven        -0.000048\n",
       "Fuel_Type          1.604411\n",
       "Seller_Type       -0.707029\n",
       "Transmission       0.116011\n",
       "Owner             -0.424007"
      ]
     },
     "execution_count": 32,
     "metadata": {},
     "output_type": "execute_result"
    }
   ],
   "source": [
    "cdf = pd.DataFrame(lm.coef_,X_train.columns,columns=['Coefficients'])\n",
    "cdf"
   ]
  },
  {
   "cell_type": "code",
   "execution_count": 33,
   "id": "50bcc561",
   "metadata": {},
   "outputs": [
    {
     "data": {
      "image/png": "[encoded data removed]",
      "text/plain": [
       "<Figure size 432x288 with 2 Axes>"
      ]
     },
     "metadata": {
      "needs_background": "light"
     },
     "output_type": "display_data"
    }
   ],
   "source": [
    "sns.heatmap(cdf,annot=True,linewidths=2,linecolor='white',cmap=\"YlGnBu\")\n",
    "plt.show()"
   ]
  },
  {
   "cell_type": "markdown",
   "id": "94a171ec",
   "metadata": {},
   "source": [
    "## Conclusion"
   ]
  },
  {
   "cell_type": "markdown",
   "id": "218632ba",
   "metadata": {},
   "source": [
    "The Fuel type is the most relevant correlation among the Selling Price.    \n",
    "\n",
    "The Present Price, Fuel Type and Transmisssion(a bit amount) are directly proportional to the Selling Price of the cars.     \n",
    "These factors bring a positive effect in the selling price of cars as well whereas the Km/s driven is highly inversely proportional to the selling price and thus, the price goes down when the km/s is high.  "
   ]
  },
  {
   "cell_type": "code",
   "execution_count": null,
   "id": "b6ea9ad1",
   "metadata": {},
   "outputs": [],
   "source": []
  }
 ],
 "metadata": {
  "kernelspec": {
   "display_name": "Python 3",
   "language": "python",
   "name": "python3"
  },
  "language_info": {
   "codemirror_mode": {
    "name": "ipython",
    "version": 3
   },
   "file_extension": ".py",
   "mimetype": "text/x-python",
   "name": "python",
   "nbconvert_exporter": "python",
   "pygments_lexer": "ipython3",
   "version": "3.8.8"
  }
 },
 "nbformat": 4,
 "nbformat_minor": 5
}
